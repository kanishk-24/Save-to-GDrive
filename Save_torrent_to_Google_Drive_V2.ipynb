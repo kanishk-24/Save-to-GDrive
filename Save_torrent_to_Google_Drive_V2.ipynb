{
  "nbformat": 4,
  "nbformat_minor": 0,
  "metadata": {
    "colab": {
      "name": "Save torrent to Google Drive V2",
      "provenance": [],
      "authorship_tag": "ABX9TyMXUz7fPMLQigB9SCZ0Cf4r",
      "include_colab_link": true
    },
    "kernelspec": {
      "name": "python3",
      "display_name": "Python 3"
    }
  },
  "cells": [
    {
      "cell_type": "markdown",
      "metadata": {
        "id": "view-in-github",
        "colab_type": "text"
      },
      "source": [
        "<a href=\"https://colab.research.google.com/github/kanishk-24/Save-to-Google-Drive/blob/main/Save_torrent_to_Google_Drive_V2.ipynb\" target=\"_parent\"><img src=\"https://colab.research.google.com/assets/colab-badge.svg\" alt=\"Open In Colab\"/></a>"
      ]
    },
    {
      "cell_type": "markdown",
      "metadata": {
        "id": "sHMs4l8p2cai"
      },
      "source": [
        "# Mount Google Drive\r\n",
        "To stream files we need to mount Google Drive."
      ]
    },
    {
      "cell_type": "code",
      "metadata": {
        "id": "D5vuvF6A2mQE"
      },
      "source": [
        "from google.colab import drive\r\n",
        "drive.mount('/content/drive')"
      ],
      "execution_count": null,
      "outputs": []
    },
    {
      "cell_type": "markdown",
      "metadata": {
        "id": "apvBsS0q2zDc"
      },
      "source": [
        "# Install Python3 and libtorrent\r\n"
      ]
    },
    {
      "cell_type": "code",
      "metadata": {
        "id": "rw7Q_GUn24c1"
      },
      "source": [
        "!python -m pip install --upgrade pip setuptools wheel"
      ],
      "execution_count": null,
      "outputs": []
    },
    {
      "cell_type": "code",
      "metadata": {
        "id": "W6_FbkAw25F9"
      },
      "source": [
        "!python -m pip install lbry-libtorrent"
      ],
      "execution_count": null,
      "outputs": []
    },
    {
      "cell_type": "code",
      "metadata": {
        "id": "wUoENQRV3Bgl"
      },
      "source": [
        "!apt install python3-libtorrent"
      ],
      "execution_count": null,
      "outputs": []
    },
    {
      "cell_type": "markdown",
      "metadata": {
        "id": "dDFLq0hz3H8F"
      },
      "source": [
        "# Code to download torrent\r\n",
        "Variable link stores the link string."
      ]
    },
    {
      "cell_type": "code",
      "metadata": {
        "id": "AtacdHN33Lje"
      },
    {
      "cell_type": "markdown",
      "metadata": {
        "id": "eCwi5lbhJ-EL"
      },
      "source": [
        "Your default download path is set to \"My Drive/Downloads/Torrents\" folder. You can change that in 'save_path:' below "
      ]
    },
      "source": [
        "import libtorrent as lt\r\n",
        "import time\r\n",
        "import datetime\r\n",
        "\r\n",
        "ses = lt.session()\r\n",
        "ses.listen_on(6881, 6891)\r\n",
        "params = {\r\n",
        "    'save_path': '/content/drive/My Drive/Downloads/Torrent/',\r\n",
        "    'storage_mode': lt.storage_mode_t(2),\r\n",
        "        }\r\n",
        "link = \"Remove this ans paste here\" # PASTE TORRENT/MAGNET LINK HERE\r\n",
        "print(link)\r\n",
        "\r\n",
        "handle = lt.add_magnet_uri(ses, link, params)\r\n",
        "ses.start_dht()\r\n",
        "\r\n",
        "begin = time.time()\r\n",
        "print(datetime.datetime.now())\r\n",
        "\r\n",
        "print ('Downloading Metadata...')\r\n",
        "while (not handle.has_metadata()):\r\n",
        "    time.sleep(1)\r\n",
        "print ('Got Metadata, Starting Torrent Download...')\r\n",
        "\r\n",
        "print(\"Starting\", handle.name())\r\n",
        "\r\n",
        "while (handle.status().state != lt.torrent_status.seeding):\r\n",
        "    s = handle.status()\r\n",
        "    state_str = ['queued', 'checking', 'downloading metadata', \\\r\n",
        "            'downloading', 'finished', 'seeding', 'allocating']\r\n",
        "    print ('%.2f%% complete (down: %.1f kb/s up: %.1f kB/s peers: %d) %s ' % \\\r\n",
        "            (s.progress * 100, s.download_rate / 1000, s.upload_rate / 1000, \\\r\n",
        "            s.num_peers, state_str[s.state]))\r\n",
        "    time.sleep(5)\r\n",
        "\r\n",
        "end = time.time()\r\n",
        "print(handle.name(), \"COMPLETE\")\r\n",
        "\r\n",
        "print(\"Elapsed Time: \",int((end-begin)//60),\"min :\", int((end-begin)%60), \"sec\")\r\n",
        "\r\n",
        "print(datetime.datetime.now())"
      ],
      "execution_count": null,
      "outputs": []
    }
  ]
}

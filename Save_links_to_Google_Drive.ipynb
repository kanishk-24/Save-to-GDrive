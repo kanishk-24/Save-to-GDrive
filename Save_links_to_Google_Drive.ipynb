{
  "nbformat": 4,
  "nbformat_minor": 0,
  "metadata": {
    "colab": {
      "name": "Save links to Google Drive",
      "provenance": [],
      "collapsed_sections": [
        "YXYskiaICxlM"
      ],
      "authorship_tag": "ABX9TyOmAGjUihRLbvRwyYcXtZt/",
      "include_colab_link": true
    },
    "kernelspec": {
      "name": "python3",
      "display_name": "Python 3"
    }
  },
  "cells": [
    {
      "cell_type": "markdown",
      "metadata": {
        "id": "view-in-github",
        "colab_type": "text"
      },
      "source": [
        "<a href=\"https://colab.research.google.com/github/kanishk-24/Save-to-Google-Drive/blob/main/Save_links_to_Google_Drive.ipynb\" target=\"_parent\"><img src=\"https://colab.research.google.com/assets/colab-badge.svg\" alt=\"Open In Colab\"/></a>"
      ]
    },
    {
      "cell_type": "markdown",
      "metadata": {
        "id": "YXYskiaICxlM"
      },
      "source": [
        "# Mount your Google Drive"
      ]
    },
    {
      "cell_type": "code",
      "metadata": {
        "id": "dkePrBGxC4aB"
      },
      "source": [
        "from google.colab import drive\n",
        "drive.mount('/content/drive')"
      ],
      "execution_count": null,
      "outputs": []
    },
    {
      "cell_type": "markdown",
      "metadata": {
        "id": "wXGGeqeoC56J"
      },
      "source": [
        "# Basic commands to save download links"
      ]
    },
    {
      "cell_type": "markdown",
      "metadata": {
        "id": "OwVo5HfYKZNv"
      },
      "source": [
        "Your default download path is set to \"My Drive/Downloads\" folder. You can change that in '-P command' below "
      ]
    },
    {
      "cell_type": "code",
      "metadata": {
        "id": "53DNdLWWDHBE"
      },
      "source": [
        "!wget 'paste your download link here' -U \"Mozilla/5.0 (Windows NT 10.0; Win64; x64) AppleWebKit/537.36 (KHTML, like Gecko) Chrome/72.0.3626.121 Safari/537.36\" -P \"/content/drive/MyDrive/Downloads\""
      ],
      "execution_count": null,
      "outputs": []
    }
  ]
}